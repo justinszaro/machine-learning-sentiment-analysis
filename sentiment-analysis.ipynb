{
 "cells": [
  {
   "cell_type": "code",
   "execution_count": 10,
   "metadata": {},
   "outputs": [],
   "source": [
    "import numpy as np\n",
    "import scipy.sparse\n",
    "import pandas as pd\n",
    "#from mpl_toolkits import mplot3d \n",
    "import matplotlib.pyplot as plt\n",
    "import seaborn as sns\n",
    "\n",
    "from sklearn.model_selection import train_test_split\n",
    "import tensorflow as tf\n"
   ]
  },
  {
   "cell_type": "markdown",
   "metadata": {},
   "source": [
    "# Frame the Problem and Look at the Big Picture \n",
    "\n",
    "1. Define the objective in business terms. \n",
    "\n",
    "    The business objective is to create a machine learning model that takes a movie goer's review and determines if it is positive or negative. The client can use this to quickly determine the overall reaction to a movie showing. \n",
    "\n",
    "2. How will your solution be used? \n",
    "\n",
    "    The solution will be used by the client to quickly determine reactions to movie showings. \n",
    "\n",
    "3. What are the current solutions/workarounds (if any)? \n",
    "\n",
    "    The current solution is to manually poll viewers to determine how they felt about the movie. This is a slow process and the review can be very mixed. \n",
    "\n",
    "4. How should you frame this problem (supervised/unsupervised, online/offline, ...)?\n",
    "\n",
    "    This problem is a supervised offline sentiment analysis problem. \n",
    "\n",
    "5. How should performance be measured? Is the performance measure aligned with the business objective? \n",
    "\n",
    "    Our metric for this problem will be accuracy. The most important function of this model is to accurately measure the sentiment of the review, so it is important that our model has high accuracy.\n",
    "\n",
    "6. What would be the minimum performance needed to reach the business objective? \n",
    "\n",
    "    The minimum performance required is 80% accuracy. \n",
    "\n",
    "7. What are comparable problems? Can you reuse experience or tools? \n",
    "\n",
    "    A comparable problem was using by a youtuber named Micheal Reeves. He used sentiment analysis to determine if reddit posts on r/wallstreetbets were positive or negative. We can reuse the experience but not the tools he used. There are resuable tools in the textbook for this course that we will be using. \n",
    "\n",
    "8. Is human expertise available? \n",
    "\n",
    "    No human expertise is availible at this time. \n",
    "\n",
    "9. How would you solve the problem manually? \n",
    "\n",
    "    To solve this problem manually, we would interview the movie goers individually to determine their feelings about the movie. \n",
    "\n",
    "10.  List the assumptions you (or others) have made so far. Verify assumptions if possible. \n",
    "\n",
    "    - A review can either be positive or negative. There are no \"meh\" reviews. "
   ]
  },
  {
   "cell_type": "markdown",
   "metadata": {},
   "source": [
    "# Get the Data \n",
    "\n",
    "1. List the data you need and how much you need \n",
    "\n",
    "    We need movie reviews and a label that determines their sentiment (1 being positive, 0 being negative). We need over 1000.\n",
    "\n",
    "2. Find and document where you can get that data \n",
    "\n",
    "    The data can be gathered form the open source website Kaggle.\n",
    "\n",
    "3. Get access authorizations \n",
    "\n",
    "    The webiste and data is open source, so we have full access to the data.\n",
    "\n",
    "4. Create a workspace (with enough storage space) \n",
    "\n",
    "    This notebook.\n",
    "\n",
    "5. Get the data \n",
    "\n",
    "    The data was downloaded from kaggle and inserted into this repository.\n",
    "    Link: https://www.kaggle.com/datasets/yasserh/imdb-movie-ratings-sentiment-analysis?resource=download\n",
    "\n",
    "6. Convert the data to a format you can easily manipulate (without changing the data itself) \n",
    "\n",
    "    Made into a pandas dataframe.\n",
    "\n",
    "7. Ensure sensitive information is deleted or protected (e.g. anonymized) \n",
    "\n",
    "    Not applicable to this situation.\n",
    "\n",
    "8. Check the size and type of data (time series, geographical, ...) \n",
    "\n",
    "    - text: object: 40000 entries\n",
    "    - label: int: 400000 entries\n",
    "    \n",
    "9. Sample a test set, put it aside, and never look at it (no data snooping!) "
   ]
  },
  {
   "cell_type": "code",
   "execution_count": 3,
   "metadata": {},
   "outputs": [],
   "source": [
    "data = pd.read_csv(\"movie.csv\")"
   ]
  },
  {
   "cell_type": "code",
   "execution_count": 4,
   "metadata": {},
   "outputs": [
    {
     "data": {
      "text/html": [
       "<div>\n",
       "<style scoped>\n",
       "    .dataframe tbody tr th:only-of-type {\n",
       "        vertical-align: middle;\n",
       "    }\n",
       "\n",
       "    .dataframe tbody tr th {\n",
       "        vertical-align: top;\n",
       "    }\n",
       "\n",
       "    .dataframe thead th {\n",
       "        text-align: right;\n",
       "    }\n",
       "</style>\n",
       "<table border=\"1\" class=\"dataframe\">\n",
       "  <thead>\n",
       "    <tr style=\"text-align: right;\">\n",
       "      <th></th>\n",
       "      <th>text</th>\n",
       "      <th>label</th>\n",
       "    </tr>\n",
       "  </thead>\n",
       "  <tbody>\n",
       "    <tr>\n",
       "      <th>0</th>\n",
       "      <td>I grew up (b. 1965) watching and loving the Th...</td>\n",
       "      <td>0</td>\n",
       "    </tr>\n",
       "    <tr>\n",
       "      <th>1</th>\n",
       "      <td>When I put this movie in my DVD player, and sa...</td>\n",
       "      <td>0</td>\n",
       "    </tr>\n",
       "    <tr>\n",
       "      <th>2</th>\n",
       "      <td>Why do people who do not know what a particula...</td>\n",
       "      <td>0</td>\n",
       "    </tr>\n",
       "    <tr>\n",
       "      <th>3</th>\n",
       "      <td>Even though I have great interest in Biblical ...</td>\n",
       "      <td>0</td>\n",
       "    </tr>\n",
       "    <tr>\n",
       "      <th>4</th>\n",
       "      <td>Im a die hard Dads Army fan and nothing will e...</td>\n",
       "      <td>1</td>\n",
       "    </tr>\n",
       "    <tr>\n",
       "      <th>...</th>\n",
       "      <td>...</td>\n",
       "      <td>...</td>\n",
       "    </tr>\n",
       "    <tr>\n",
       "      <th>39995</th>\n",
       "      <td>\"Western Union\" is something of a forgotten cl...</td>\n",
       "      <td>1</td>\n",
       "    </tr>\n",
       "    <tr>\n",
       "      <th>39996</th>\n",
       "      <td>This movie is an incredible piece of work. It ...</td>\n",
       "      <td>1</td>\n",
       "    </tr>\n",
       "    <tr>\n",
       "      <th>39997</th>\n",
       "      <td>My wife and I watched this movie because we pl...</td>\n",
       "      <td>0</td>\n",
       "    </tr>\n",
       "    <tr>\n",
       "      <th>39998</th>\n",
       "      <td>When I first watched Flatliners, I was amazed....</td>\n",
       "      <td>1</td>\n",
       "    </tr>\n",
       "    <tr>\n",
       "      <th>39999</th>\n",
       "      <td>Why would this film be so good, but only gross...</td>\n",
       "      <td>1</td>\n",
       "    </tr>\n",
       "  </tbody>\n",
       "</table>\n",
       "<p>40000 rows × 2 columns</p>\n",
       "</div>"
      ],
      "text/plain": [
       "                                                    text  label\n",
       "0      I grew up (b. 1965) watching and loving the Th...      0\n",
       "1      When I put this movie in my DVD player, and sa...      0\n",
       "2      Why do people who do not know what a particula...      0\n",
       "3      Even though I have great interest in Biblical ...      0\n",
       "4      Im a die hard Dads Army fan and nothing will e...      1\n",
       "...                                                  ...    ...\n",
       "39995  \"Western Union\" is something of a forgotten cl...      1\n",
       "39996  This movie is an incredible piece of work. It ...      1\n",
       "39997  My wife and I watched this movie because we pl...      0\n",
       "39998  When I first watched Flatliners, I was amazed....      1\n",
       "39999  Why would this film be so good, but only gross...      1\n",
       "\n",
       "[40000 rows x 2 columns]"
      ]
     },
     "execution_count": 4,
     "metadata": {},
     "output_type": "execute_result"
    }
   ],
   "source": [
    "data"
   ]
  },
  {
   "cell_type": "code",
   "execution_count": 5,
   "metadata": {},
   "outputs": [
    {
     "name": "stdout",
     "output_type": "stream",
     "text": [
      "<class 'pandas.core.frame.DataFrame'>\n",
      "RangeIndex: 40000 entries, 0 to 39999\n",
      "Data columns (total 2 columns):\n",
      " #   Column  Non-Null Count  Dtype \n",
      "---  ------  --------------  ----- \n",
      " 0   text    40000 non-null  object\n",
      " 1   label   40000 non-null  int64 \n",
      "dtypes: int64(1), object(1)\n",
      "memory usage: 625.1+ KB\n"
     ]
    }
   ],
   "source": [
    "data.info()"
   ]
  },
  {
   "cell_type": "code",
   "execution_count": 6,
   "metadata": {},
   "outputs": [],
   "source": [
    "train_set, test_set = train_test_split(data, stratify=data['label'], test_size=0.2, random_state=420)"
   ]
  },
  {
   "cell_type": "markdown",
   "metadata": {},
   "source": [
    "# Explore the Data \n",
    "\n",
    "1. Copy the data for exploration, downsampling to a manageable size if necessary. \n",
    "\n",
    "\n",
    "2. Study each attribute and its characteristics: Name; Type (categorical, numerical, bounded, text, structured, ...); % of missing values; Noisiness and type of noise (stochastic, outliers, rounding errors, ...); Usefulness for the task; Type of distribution (Gaussian, uniform logarithmic, ...) \n",
    "\n",
    "    - text is a object datatype with no missing data.\n",
    "    - label is an interger value of either 1 or a 0. 1 is positive, 0 is negative. There is no missing data. In the data set, there is almost an equal number of positive and negative labels.\n",
    "\n",
    "\n",
    "3. For supervised learning tasks, identify the target attribute(s) \n",
    "\n",
    "    The target attribute is the label feature. It is the sentiment of the text.\n",
    "\n",
    "4. Visualize the data \n",
    "\n",
    "\n",
    "5. Study the correlations between attributes \n",
    "\n",
    "\n",
    "6. Study how you would solve the problem manually \n",
    "\n",
    "\n",
    "7. Identify the promising transformations you may want to apply \n",
    "\n",
    "\n",
    "8. Identify extra data that would be useful (go back to “Get the Data”) \n",
    "\n",
    "\n",
    "9. Document what you have learned \n",
    "    - With statification, there is almost an equal number of text with positive/negative sentiment."
   ]
  },
  {
   "cell_type": "code",
   "execution_count": 7,
   "metadata": {},
   "outputs": [],
   "source": [
    "train_copy = train_set.copy()"
   ]
  },
  {
   "cell_type": "code",
   "execution_count": 8,
   "metadata": {},
   "outputs": [
    {
     "data": {
      "text/plain": [
       "0    16015\n",
       "1    15985\n",
       "Name: label, dtype: int64"
      ]
     },
     "execution_count": 8,
     "metadata": {},
     "output_type": "execute_result"
    }
   ],
   "source": [
    "train_copy['label'].value_counts()"
   ]
  },
  {
   "cell_type": "code",
   "execution_count": null,
   "metadata": {},
   "outputs": [],
   "source": []
  }
 ],
 "metadata": {
  "interpreter": {
   "hash": "aee8b7b246df8f9039afb4144a1f6fd8d2ca17a180786b69acc140d282b71a49"
  },
  "kernelspec": {
   "display_name": "Python 3.9.6 64-bit",
   "language": "python",
   "name": "python3"
  },
  "language_info": {
   "codemirror_mode": {
    "name": "ipython",
    "version": 3
   },
   "file_extension": ".py",
   "mimetype": "text/x-python",
   "name": "python",
   "nbconvert_exporter": "python",
   "pygments_lexer": "ipython3",
   "version": "3.9.7"
  },
  "orig_nbformat": 4
 },
 "nbformat": 4,
 "nbformat_minor": 2
}
