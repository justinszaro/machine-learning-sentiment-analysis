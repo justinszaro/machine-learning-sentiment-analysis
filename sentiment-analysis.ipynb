{
 "cells": [
  {
   "cell_type": "markdown",
   "metadata": {},
   "source": [
    "# Frame the Problem and Look at the Big Picture \n",
    "\n",
    "1. Define the objective in business terms. \n",
    "\n",
    "    The business objective is to create a machine learning model that takes a movie goer's review and determines if it is positive or negative. The client can use this to quickly determine the overall reaction to a movie showing. \n",
    "\n",
    "2. How will your solution be used? \n",
    "\n",
    "    The solution will be used by the client to quicly determine reactions to movie showings. \n",
    "\n",
    "3. What are the current solutions/workarounds (if any)? \n",
    "\n",
    "    The current solution is to manually poll viewers to determine how they felt about the movie. This is a slow process and the review can be very mixed. \n",
    "\n",
    "4. How should you frame this problem (supervised/unsupervised, online/offline, ...)?\n",
    "\n",
    "    This problem is a supervised offline sentiment analysis problem. \n",
    "\n",
    "5. How should performance be measured? Is the performance measure aligned with the business objective? \n",
    "\n",
    "    Our metric for this problem will be accuracy. The most important function of this model is to accurately measure the sentiment of the review, so it is important that our model has high accuracy.\n",
    "\n",
    "6. What would be the minimum performance needed to reach the business objective? \n",
    "\n",
    "    The minimum performance required is 80% accuracy. \n",
    "\n",
    "7. What are comparable problems? Can you reuse experience or tools? \n",
    "\n",
    "    A comparable problem was using by a youtuber named Micheal Reeves. He used sentiment analysis to determine if reddit posts on r/wallstreetbets were positive or negative. We can reuse the experience but not the tools he used. There are resuable tools in the textbook for this course that we will be using. \n",
    "\n",
    "8. Is human expertise available? \n",
    "\n",
    "    No human expertise is availible at this time. \n",
    "\n",
    "9. How would you solve the problem manually? \n",
    "\n",
    "    To solve this problem manually, we would interview the movie goers individually to determine their feelings about the movie. \n",
    "\n",
    "10.  List the assumptions you (or others) have made so far. Verify assumptions if possible. \n",
    "\n",
    "    - A review can either be positive or negative. There are no \"meh\" reviews. "
   ]
  },
  {
   "cell_type": "markdown",
   "metadata": {},
   "source": []
  }
 ],
 "metadata": {
  "language_info": {
   "name": "python"
  },
  "orig_nbformat": 4
 },
 "nbformat": 4,
 "nbformat_minor": 2
}
